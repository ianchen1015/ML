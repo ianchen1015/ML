{
 "cells": [
  {
   "cell_type": "code",
   "execution_count": 11,
   "metadata": {},
   "outputs": [],
   "source": [
    "import numpy as np"
   ]
  },
  {
   "cell_type": "code",
   "execution_count": 12,
   "metadata": {},
   "outputs": [],
   "source": [
    "number = np.random.uniform(0,1,10000)"
   ]
  },
  {
   "cell_type": "code",
   "execution_count": 13,
   "metadata": {},
   "outputs": [
    {
     "name": "stdout",
     "output_type": "stream",
     "text": [
      "sample mean =  0.49579833280654134\n",
      "sample standard deviation =  0.07956621214592463\n"
     ]
    }
   ],
   "source": [
    "sample = np.array([])\n",
    "for i in range(20):\n",
    "    select = np.random.choice(number,10)\n",
    "    sample = np.append(sample,select.mean())\n",
    "print ('sample mean = ',sample.mean())\n",
    "print ('sample standard deviation = ',sample.std())"
   ]
  },
  {
   "cell_type": "code",
   "execution_count": 14,
   "metadata": {},
   "outputs": [
    {
     "name": "stdout",
     "output_type": "stream",
     "text": [
      "sample mean =  0.5027259142731907\n",
      "sample standard deviation =  0.008544926478141823\n"
     ]
    }
   ],
   "source": [
    "sample = np.array([])\n",
    "for i in range(50):\n",
    "    select = np.random.choice(number,1000)\n",
    "    sample = np.append(sample,select.mean())\n",
    "print ('sample mean = ',sample.mean())\n",
    "print ('sample standard deviation = ',sample.std())"
   ]
  },
  {
   "cell_type": "code",
   "execution_count": null,
   "metadata": {},
   "outputs": [],
   "source": []
  }
 ],
 "metadata": {
  "kernelspec": {
   "display_name": "Python 3",
   "language": "python",
   "name": "python3"
  },
  "language_info": {
   "codemirror_mode": {
    "name": "ipython",
    "version": 3
   },
   "file_extension": ".py",
   "mimetype": "text/x-python",
   "name": "python",
   "nbconvert_exporter": "python",
   "pygments_lexer": "ipython3",
   "version": "3.6.4"
  }
 },
 "nbformat": 4,
 "nbformat_minor": 2
}
